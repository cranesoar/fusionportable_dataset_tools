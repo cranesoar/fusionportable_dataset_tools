{
 "cells": [
  {
   "cell_type": "code",
   "execution_count": null,
   "metadata": {},
   "outputs": [],
   "source": [
    "import rosbag\n",
    "from sensor import Sensor\n",
    "\n",
    "# Set up the rosbag path\n",
    "rosbag_path = 'path_to_your_rosbag.bag'\n",
    "\n",
    "# Initialize the lidar object of Sensor class\n",
    "lidar = Sensor(topic='/your/lidar/topic')\n",
    "\n",
    "# Load messages\n",
    "lidar.load_messages(rosbag_path)"
   ]
  }
 ],
 "metadata": {
  "language_info": {
   "name": "python"
  }
 },
 "nbformat": 4,
 "nbformat_minor": 2
}
