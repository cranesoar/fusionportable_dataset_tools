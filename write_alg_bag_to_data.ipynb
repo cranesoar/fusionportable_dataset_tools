{
 "cells": [
  {
   "cell_type": "code",
   "execution_count": 4,
   "metadata": {},
   "outputs": [],
   "source": [
    "import os\n",
    "import rosbag\n",
    "from data_loader.ros_msg.pointcloud import PointCloud\n",
    "from data_loader.ros_msg.image import Image\n",
    "from data_loader.ros_msg.odometry import Odometry\n",
    "from data_loader.calib.intrinsic_extrinsic_loader import IntrinsicExtrinsicLoader\n",
    "\n",
    "sequence_name = 'vehicle_campus00'\n",
    "algorithm = 'r3live'"
   ]
  },
  {
   "cell_type": "code",
   "execution_count": 5,
   "metadata": {},
   "outputs": [
    {
     "name": "stdout",
     "output_type": "stream",
     "text": [
      "Finish loading parameters\n"
     ]
    }
   ],
   "source": [
    "##### Set up the rosbag path\n",
    "input_dataset_path = '/Rocket_ssd/dataset/FusionPortable_dataset_develop/evaluation/algorithm_result'\n",
    "rosbag_path = os.path.join(input_dataset_path, sequence_name + '_{}.bag'.format(algorithm))\n",
    "\n",
    "##### Set up the output data path\n",
    "dataset_path = '/Rocket_ssd/dataset/FusionPortable_dataset_develop/sensor_data/data_refined'\n",
    "\n",
    "##### Set up the message topic list for different algorithms\n",
    "if algorithm =='r3live':\n",
    "  from cfg.algorithm.cfg_r3live import algorithm_rostopic_msg_frameid_dict\n",
    "  rostopic_msg_frameid_dict = algorithm_rostopic_msg_frameid_dict\n",
    "\n",
    "print('Finish loading parameters')"
   ]
  },
  {
   "cell_type": "code",
   "execution_count": 6,
   "metadata": {},
   "outputs": [
    {
     "name": "stdout",
     "output_type": "stream",
     "text": [
      "Finish reading bag, start loading messages, and writing message to data folder\n",
      "Will save messages to algorithm_result\n",
      "Loading Ouster_undistorted messages...\n",
      "     Saving 800 Ouster_undistorted points messages to /Rocket_ssd/dataset/FusionPortable_dataset_develop/sensor_data/data_refined/vehicle_campus00/algorithm_result/ouster00_undistort/points!\n",
      "Loading Odometry messages...\n",
      "     Saving 800 Odometry messages to /Rocket_ssd/dataset/FusionPortable_dataset_develop/sensor_data/data_refined/vehicle_campus00/algorithm_result/odometry!\n",
      "Finishing loading Odometry messages!\n",
      "Loading Camera_Odometry messages...\n",
      "     Saving 1607 Camera_Odometry messages to /Rocket_ssd/dataset/FusionPortable_dataset_develop/sensor_data/data_refined/vehicle_campus00/algorithm_result/camera_odometry!\n",
      "Finishing loading Camera_Odometry messages!\n"
     ]
    }
   ],
   "source": [
    "##### Open the rosbag\n",
    "input_bag = rosbag.Bag(rosbag_path)\n",
    "print('Finish reading bag, start loading messages, and writing message to data folder')\n",
    "print('Will save messages to algorithm_result'.format(os.path.join(dataset_path, sequence_name, algorithm)))\n",
    "\n",
    "##### Initialize the lidar object of Sensor class\n",
    "# Ouster_undistorted\n",
    "print('Loading Ouster_undistorted messages...')\n",
    "pointcloud = PointCloud(sensor_type='ouster')\n",
    "output_data_path = os.path.join(dataset_path, sequence_name, 'algorithm_result'.format(algorithm), 'ouster00_undistort', 'points')\n",
    "num_msg = pointcloud.load_messages_write_to_file(bag=input_bag, output_path=output_data_path, topic=rostopic_msg_frameid_dict['ouster_points_undistorted'][0])\n",
    "print('     Saving {} Ouster_undistorted points messages to {}!'.format(num_msg, output_data_path))\n",
    "\n",
    "# Odometry\n",
    "print('Loading Odometry messages...')\n",
    "odometry = Odometry(traj_type='TUM', msg_type='nav_msgs/Odometry')\n",
    "output_data_path = os.path.join(dataset_path, sequence_name, 'algorithm_result'.format(algorithm), 'odometry')\n",
    "num_msg = odometry.load_messages_write_to_file(bag=input_bag, output_path=output_data_path, topic=rostopic_msg_frameid_dict['odometry'][0])\n",
    "print('     Saving {} Odometry messages to {}!'.format(num_msg, output_data_path))\n",
    "print('Finishing loading Odometry messages!')\n",
    "\n",
    "# Camera Odometry\n",
    "print('Loading Camera_Odometry messages...')\n",
    "odometry = Odometry(traj_type='TUM', msg_type='nav_msgs/Odometry')\n",
    "output_data_path = os.path.join(dataset_path, sequence_name, 'algorithm_result'.format(algorithm), 'camera_odometry')\n",
    "num_msg = odometry.load_messages_write_to_file(bag=input_bag, output_path=output_data_path, topic=rostopic_msg_frameid_dict['camera_odometry'][0])\n",
    "print('     Saving {} Camera_Odometry messages to {}!'.format(num_msg, output_data_path))\n",
    "print('Finishing loading Camera_Odometry messages!')\n",
    "\n",
    "##### Close the rosbag\n",
    "input_bag.close()"
   ]
  }
 ],
 "metadata": {
  "kernelspec": {
   "display_name": "base_py3",
   "language": "python",
   "name": "python3"
  },
  "language_info": {
   "codemirror_mode": {
    "name": "ipython",
    "version": 3
   },
   "file_extension": ".py",
   "mimetype": "text/x-python",
   "name": "python",
   "nbconvert_exporter": "python",
   "pygments_lexer": "ipython3",
   "version": "3.9.18"
  }
 },
 "nbformat": 4,
 "nbformat_minor": 2
}
